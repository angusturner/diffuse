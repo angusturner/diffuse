{
 "cells": [
  {
   "cell_type": "markdown",
   "metadata": {},
   "source": [
    "### Denoising Diffusion Probabilistic Models"
   ]
  },
  {
   "cell_type": "code",
   "execution_count": 1,
   "metadata": {},
   "outputs": [],
   "source": [
    "import torch\n",
    "import torch.nn as nn\n",
    "import torch.nn.functional as F\n",
    "import torch.utils.data\n",
    "\n",
    "from torchvision import datasets, transforms\n",
    "\n",
    "import matplotlib.pyplot as plt\n",
    "%matplotlib inline\n",
    "import seaborn as sns\n",
    "\n",
    "import numpy as np\n",
    "from functools import partial\n",
    "\n",
    "from tqdm import tqdm as tqdm\n",
    "\n",
    "# wandb for plotting\n",
    "import wandb\n",
    "\n",
    "# PopGen for data loader and worker utils.\n",
    "from popgen.setup import setup_loaders, setup_config\n",
    "from popgen.workers.abstract_worker import AbstractWorker"
   ]
  },
  {
   "cell_type": "code",
   "execution_count": 2,
   "metadata": {},
   "outputs": [],
   "source": [
    "# put working directory \"diffuse\" on the current path\n",
    "import sys\n",
    "sys.path.append('/home/angusturner/diffuse/')\n",
    "\n",
    "from diffuse.datasets import MNIST"
   ]
  },
  {
   "cell_type": "markdown",
   "metadata": {},
   "source": [
    "### Dataset Options"
   ]
  },
  {
   "cell_type": "code",
   "execution_count": 3,
   "metadata": {},
   "outputs": [],
   "source": [
    "# datasets get saved here\n",
    "DATA_DIR = \"/home/angusturner/datasets/\"\n",
    "\n",
    "# options for `torch.utils.data.DataLoader`\n",
    "LOADER_OPTS = {\n",
    "    'both': {\n",
    "        'batch_size': 32,\n",
    "        'shuffle': True,\n",
    "    },\n",
    "    'train': {\n",
    "        'drop_last': True\n",
    "    },\n",
    "    'test': {\n",
    "        'drop_last': False\n",
    "    }\n",
    "}\n",
    "\n",
    "# options for `datasets.MNIST`\n",
    "DATA_OPTS = {\n",
    "    'both': {\n",
    "        'data_dir': DATA_DIR\n",
    "    }\n",
    "}"
   ]
  },
  {
   "cell_type": "markdown",
   "metadata": {},
   "source": [
    "### Setup Loaders"
   ]
  },
  {
   "cell_type": "code",
   "execution_count": 4,
   "metadata": {},
   "outputs": [],
   "source": [
    "train_loader, test_loader = setup_loaders(\n",
    "    dataset_class=\"MNIST\", \n",
    "    data_opts=DATA_OPTS,\n",
    "    loader_opts=LOADER_OPTS,\n",
    "    module=\"diffuse\"\n",
    ")"
   ]
  },
  {
   "cell_type": "markdown",
   "metadata": {},
   "source": [
    "### Inspect Data"
   ]
  },
  {
   "cell_type": "code",
   "execution_count": 5,
   "metadata": {},
   "outputs": [
    {
     "name": "stdout",
     "output_type": "stream",
     "text": [
      "tensor(-0.7293) tensor(0.6230)\n",
      "tensor(0.1354) tensor(0.3115)\n"
     ]
    }
   ],
   "source": [
    "x, y = next(train_loader.__iter__())\n",
    "\n",
    "x_denorm = MNIST.denormalize(x)\n",
    "\n",
    "print(x.mean(), x.std())\n",
    "print(x_denorm.mean(), x_denorm.std())"
   ]
  },
  {
   "cell_type": "code",
   "execution_count": 6,
   "metadata": {},
   "outputs": [
    {
     "data": {
      "image/png": "[encoded data removed]",
      "text/plain": [
       "<Figure size 432x288 with 1 Axes>"
      ]
     },
     "metadata": {
      "needs_background": "light"
     },
     "output_type": "display_data"
    }
   ],
   "source": [
    "plt.imshow(x_denorm.numpy()[0, 0])\n",
    "plt.show();"
   ]
  },
  {
   "cell_type": "markdown",
   "metadata": {},
   "source": [
    "### Neural Net\n",
    "\n",
    "We define a simple U-Net inspired architecture, suited to the dimensions of MNIST data."
   ]
  },
  {
   "cell_type": "code",
   "execution_count": 7,
   "metadata": {},
   "outputs": [],
   "source": [
    "class DownsampleBlock(nn.Module):\n",
    "    def __init__(self, hidden):\n",
    "        super(DownsampleBlock, self).__init__()\n",
    "\n",
    "        self.main = nn.Conv2d(hidden, hidden * 2, kernel_size=2, stride=2)\n",
    "        self.skip = nn.Conv2d(hidden, hidden * 2, kernel_size=2, stride=2)\n",
    "\n",
    "    def forward(self, x, skip):\n",
    "        x = self.main(x)\n",
    "        skip = self.skip(skip)\n",
    "        return x, skip\n",
    "    \n",
    "class UpsampleBlock(nn.Module):\n",
    "    def __init__(self, hidden):\n",
    "        super(UpsampleBlock, self).__init__()\n",
    "\n",
    "        self.main = nn.ConvTranspose2d(hidden, hidden // 2, kernel_size=2, stride=2)\n",
    "        self.skip = nn.ConvTranspose2d(hidden, hidden // 2, kernel_size=2, stride=2)\n",
    "\n",
    "    def forward(self, x, skip):\n",
    "        x = self.main(x)\n",
    "        skip = self.skip(skip)\n",
    "        return x, skip"
   ]
  },
  {
   "cell_type": "code",
   "execution_count": 8,
   "metadata": {},
   "outputs": [],
   "source": [
    "class ConvGLU(nn.Module):\n",
    "    def __init__(self, channels, c_dim=None, dilation=1, kw=3):\n",
    "        super().__init__()\n",
    "        \n",
    "        self.bn = nn.BatchNorm2d(channels)\n",
    "        \n",
    "        # main op. + parameterised residual connection\n",
    "        padding = (kw - 1) * dilation // 2\n",
    "        self.conv = nn.Conv2d(channels, channels, kernel_size=3, dilation=dilation, padding=padding)\n",
    "        self.up1x1 = nn.Conv2d(channels // 2, channels, 1)\n",
    "        \n",
    "        # parameterised skip connection\n",
    "        self.skip1x1 = nn.Conv2d(channels // 2, channels, 1)\n",
    "        \n",
    "        self.rescale = 0.5 ** 0.5\n",
    "        \n",
    "        if c_dim is not None:\n",
    "            self.c_proj = nn.Linear(c_dim, channels)\n",
    "            \n",
    "    def forward(self, x, skip, c=None):\n",
    "        \"\"\"\n",
    "        :param x: (B, C H, W)\n",
    "        :param skip: (B, C, H, W)\n",
    "        \"\"\"\n",
    "        h = self.bn(x)\n",
    "        h = self.conv(h)\n",
    "        a, b = torch.chunk(h, 2, 1) # (B, C // 2, H, W)\n",
    "        \n",
    "        if c is not None:\n",
    "            assert hasattr(self, 'c_proj'), \"Oops, conditioning dim not specified!\"\n",
    "            batch = x.shape[0]\n",
    "            c_proj = self.c_proj(c)\n",
    "            c_a, c_b = torch.chunk(c_proj, 2, -1) # (B, C // 2)\n",
    "            c_a = c_a.reshape(batch, -1, 1, 1) # (B, C // 2, H=1, W=1)\n",
    "            c_b = c_b.reshape(batch, -1, 1, 1)\n",
    "            a = (a + c_a) * self.rescale\n",
    "            b = (b + c_b) * self.rescale\n",
    "        \n",
    "        out = torch.sigmoid(a) * b\n",
    "        \n",
    "        # accumulate skip values\n",
    "        skip = self.rescale * (self.skip1x1(out) + skip) # (B, C, H, W)\n",
    "        \n",
    "        # residual connection\n",
    "        out = self.up1x1(out)\n",
    "        out = self.rescale * (out + x) # (B, C, H, W)\n",
    "            \n",
    "        return out, skip"
   ]
  },
  {
   "cell_type": "code",
   "execution_count": 9,
   "metadata": {},
   "outputs": [],
   "source": [
    "class ScoreNetwork(nn.Module):\n",
    "    def __init__(self, input_dim=1, hidden=64, output_dim=1, c_dim=64, nb_timesteps=50):\n",
    "        super().__init__()\n",
    "        \n",
    "        # create positional embeddings (Vaswani et al, 2018)\n",
    "        dims = torch.arange(c_dim // 2).unsqueeze(0) # (1, c_dim  // 2)\n",
    "        steps = torch.arange(nb_timesteps).unsqueeze(1) # (nb_timesteps, 1)\n",
    "        first_half = torch.sin(steps * 10. ** (dims * 4. / (c_dim // 2 - 1)))\n",
    "        second_half = torch.cos(steps * 10. ** (dims * 4. / (c_dim // 2 - 1)))\n",
    "        diff_embedding = torch.cat((first_half, second_half), dim=1) # (nb_timesteps, c_dim)\n",
    "        self.register_buffer('diff_embedding', diff_embedding)\n",
    "        \n",
    "        self.init = nn.Conv2d(input_dim, hidden, 1)\n",
    "        self.init_skip = nn.Conv2d(input_dim, hidden, 1)\n",
    "        \n",
    "        # 28x28\n",
    "        self.l1 = ConvGLU(hidden, c_dim)\n",
    "        self.down1 = DownsampleBlock(hidden)\n",
    "        \n",
    "        # 14x14\n",
    "        self.l2 = ConvGLU(hidden * 2, c_dim)\n",
    "        self.down2 = DownsampleBlock(hidden * 2)\n",
    "        \n",
    "        # 7x7\n",
    "        self.l3 = ConvGLU(hidden * 4, c_dim, dilation=1)\n",
    "        self.l4 = ConvGLU(hidden * 4, c_dim, dilation=2)\n",
    "        \n",
    "        # 14x14\n",
    "        self.up1 = UpsampleBlock(hidden * 4)\n",
    "        self.l5 = ConvGLU(hidden * 2, c_dim)\n",
    "        \n",
    "        # 28x28\n",
    "        self.up2 = UpsampleBlock(hidden * 2)\n",
    "        self.l6 = ConvGLU(hidden, c_dim)\n",
    "        \n",
    "        self.rescale = 0.5 ** 0.5\n",
    "    \n",
    "        self.out = nn.Sequential(\n",
    "            nn.Conv2d(hidden, hidden * 2, 1),\n",
    "            nn.LeakyReLU(),\n",
    "            nn.Conv2d(hidden * 2, 1, 1)\n",
    "        )\n",
    "        \n",
    "    def forward(self, x, t):\n",
    "        \"\"\"\n",
    "        Produces an estimate for the noise term `epsilon`. \n",
    "        Can equivalently be thought of as a learned gradient or \"score function\" estimator,\n",
    "        as part of a Langevin sampling procedure.\n",
    "        :param x: (batch, 1, H, W) torch.float\n",
    "        :param t: (batch) torch.int\n",
    "        \"\"\"\n",
    "        batch = x.shape[0]\n",
    "        c = self.diff_embedding[t] # (batch, c_dim)\n",
    "        \n",
    "        # initial channel upsampling\n",
    "        out = self.init(x)\n",
    "        skip = self.init_skip(x)\n",
    "        \n",
    "        # 28x28\n",
    "        out, skip = self.l1(out, skip, c)\n",
    "        out_half, skip_half = self.down1(out, skip)\n",
    "        \n",
    "        # 14x14\n",
    "        out_half, skip_half = self.l2(out_half, skip_half, c)\n",
    "        out_quart, skip_quart = self.down2(out_half, skip_half)\n",
    "        \n",
    "        # 7x7\n",
    "        out_quart, skip_quart = self.l3(out_quart, skip_quart, c)\n",
    "        out_quart, skip_quart = self.l4(out_quart, skip_quart, c)\n",
    "        \n",
    "        # back to 14x14\n",
    "        out_half_, skip_half_ = self.up1(out_quart, skip_quart)\n",
    "        out_half = self.rescale * (out_half + out_half_)\n",
    "        skip_half = self.rescale * (skip_half + skip_half_)\n",
    "        \n",
    "        # 14x14\n",
    "        out_half, skip_half = self.l5(out_half, skip_half)\n",
    "        \n",
    "        # back to 28x28\n",
    "        out_, skip_ = self.up2(out_half, skip_half)\n",
    "        out = self.rescale * (out + out_)\n",
    "        skip = self.rescale * (skip + skip_)\n",
    "        \n",
    "        out, skip = self.l6(out, skip, c)\n",
    "        out = self.out(skip)\n",
    "        \n",
    "        return out"
   ]
  },
  {
   "cell_type": "markdown",
   "metadata": {},
   "source": [
    "### Diffusion Process"
   ]
  },
  {
   "cell_type": "code",
   "execution_count": 10,
   "metadata": {},
   "outputs": [],
   "source": [
    "class DiffusionProcess(nn.Module):\n",
    "    def __init__(self, nb_timesteps=50, start=1e-4, end=0.05):\n",
    "        super().__init__()\n",
    "        \n",
    "        self.nb_timesteps = nb_timesteps\n",
    "        \n",
    "        # beta = likelihood variance q(x_t | x_t-1)\n",
    "        beta = torch.linspace(start, end, nb_timesteps)\n",
    "        alpha = 1. - beta\n",
    "        alpha_hat = alpha.cumprod(dim=0)\n",
    "        \n",
    "        # q(x_t|x_0) = N(x_t ; sqrt(alpha_hat) * x_0, forward_variance)\n",
    "        prior_variance = (1. - alpha_hat)\n",
    "        \n",
    "        # forward process posterior variance (beta_hat) corresponding to (q(x_t-1 | x_t, x_0)\n",
    "        alpha_hat_t_1 = F.pad(alpha_hat, (1, 0))[:-1]\n",
    "        posterior_variance = (1 - alpha_hat_t_1) * beta / (1 - alpha_hat)\n",
    "        posterior_variance[0] = beta[0]\n",
    "        \n",
    "        for (name, tensor) in [\n",
    "            (\"beta\", beta),\n",
    "            (\"alpha\", alpha),\n",
    "            (\"alpha_hat\", alpha_hat),\n",
    "            (\"prior_variance\", prior_variance),\n",
    "            (\"posterior_variance\", posterior_variance)\n",
    "        ]:\n",
    "            self.register_buffer(name, tensor)\n",
    "    \n",
    "    def sample_t(self, batch_size=1, device=None):\n",
    "        \"\"\"\n",
    "        Sample a random timestep for each batch item.\n",
    "        \"\"\"\n",
    "        return torch.randint(0, self.nb_timesteps, size=(batch_size,), device=device)\n",
    "        \n",
    "    def sample_q(self, x0, eps, t):\n",
    "        \"\"\"\n",
    "        The \"forward process\". Given the data point x_0, we can sample\n",
    "        any latent x_t from q(x_t|x_0)\n",
    "        :param x0: the initial data point (batch, *)\n",
    "        :param eps: noise samples from N(0, I) (batch, *)\n",
    "        :param t: the timesteps in [0, nb_timesteps] (batch)\n",
    "        \"\"\"\n",
    "        assert (t >= 0).all() and (t < self.nb_timesteps).all(), \"Invalid timestep\"\n",
    "        \n",
    "        alpha_hat_t = self.alpha_hat[t, None, None, None] # (batch, 1, 1, 1)\n",
    "        return alpha_hat_t.sqrt() * x0 + (1. - alpha_hat_t).sqrt() * eps\n",
    "    \n",
    "    def sample_p(self, x_t, eps_hat, t, greedy=False):\n",
    "        \"\"\"\n",
    "        The \"reverse process\". Given a latent `x_t`, draw a sample from p(x_t-1|x_t)\n",
    "        using the noise prediction.\n",
    "        :param x_t: the previous sample (batch, *)\n",
    "        :param eps_hat: the noise, predicted by neural net (batch, *)\n",
    "        :param t: the timestep (batch)\n",
    "        \"\"\"\n",
    "        \n",
    "        alpha_t = self.alpha[t, None, None, None] # (batch, 1, 1, 1)\n",
    "        beta_t = self.beta[t, None, None, None]\n",
    "        alpha_hat_t = self.alpha_hat[t, None, None, None]\n",
    "        \n",
    "        # calculate the mean\n",
    "        mu = x_t - ((beta_t * eps_hat) / (1. - alpha_hat_t).sqrt())\n",
    "        mu = (1. / alpha_t.sqrt()) * mu\n",
    "        \n",
    "        if greedy:\n",
    "            return mu\n",
    "        \n",
    "        # sample\n",
    "        std = self.posterior_variance[t, None, None, None].sqrt()\n",
    "        x_next = mu + std * torch.randn_like(mu)\n",
    "        \n",
    "        return x_next"
   ]
  },
  {
   "cell_type": "markdown",
   "metadata": {},
   "source": [
    "### Visualise the Parameters of the Diffusion Process"
   ]
  },
  {
   "cell_type": "code",
   "execution_count": 11,
   "metadata": {},
   "outputs": [
    {
     "name": "stdout",
     "output_type": "stream",
     "text": [
      "tensor(0.9937)\n",
      "tensor(0.0001)\n",
      "tensor(1.0000e-04)\n",
      "tensor(1.0000e-04)\n"
     ]
    }
   ],
   "source": [
    "nb_steps = 1000\n",
    "start = 1e-4\n",
    "end = 1e-2\n",
    "diff_process = DiffusionProcess(nb_steps, start, end)\n",
    "print(diff_process.prior_variance[-1])\n",
    "print(diff_process.prior_variance[0])\n",
    "\n",
    "print(diff_process.posterior_variance[0])\n",
    "print(diff_process.beta[0])"
   ]
  },
  {
   "cell_type": "code",
   "execution_count": 12,
   "metadata": {},
   "outputs": [
    {
     "data": {
      "image/png": "[encoded data removed]",
      "text/plain": [
       "<Figure size 576x576 with 1 Axes>"
      ]
     },
     "metadata": {
      "needs_background": "light"
     },
     "output_type": "display_data"
    },
    {
     "data": {
      "image/png": "[encoded data removed]",
      "text/plain": [
       "<Figure size 576x576 with 1 Axes>"
      ]
     },
     "metadata": {
      "needs_background": "light"
     },
     "output_type": "display_data"
    },
    {
     "data": {
      "image/png": "[encoded data removed]",
      "text/plain": [
       "<Figure size 576x576 with 1 Axes>"
      ]
     },
     "metadata": {
      "needs_background": "light"
     },
     "output_type": "display_data"
    }
   ],
   "source": [
    "# visualise the various terms\n",
    "t = torch.arange(1, nb_steps+1)\n",
    "plt.figure(figsize=(8, 8))\n",
    "plt.title(\"Variance of q(x_t | x_0) for t=0 -> t=T\")\n",
    "plt.xlabel(\"Timestep `t`\")\n",
    "plt.ylabel(\"1 - alpha_hat_t\")\n",
    "plt.plot(t[:], diff_process.prior_variance[:])\n",
    "plt.show()\n",
    "\n",
    "plt.figure(figsize=(8, 8))\n",
    "plt.title(\"Posterior vs Likelihood Variances. t=0 -> t=T-1\")\n",
    "plt.xlabel(\"Timestep `t`\")\n",
    "plt.plot(t[0:-1], diff_process.beta[:-1])\n",
    "plt.plot(t[0:-1], diff_process.posterior_variance[1:])\n",
    "plt.legend([\n",
    "    \"Beta : q(x_t|x_t-1) = N(..., Beta)\", \n",
    "    \"Beta_Hat : q(x_t|x_t+1,x_0) = N(..., Beta_Hat)\"\n",
    "])\n",
    "plt.show()\n",
    "\n",
    "plt.figure(figsize=(8, 8))\n",
    "plt.title(\"Ratio of Posterior and Likelihood Variances. t=1 -> t=T-1\")\n",
    "plt.xlabel(\"Timestep `t`\")\n",
    "plt.ylabel(\"Posterior Variance / Likelihood Variance\")\n",
    "plt.plot(t[1:-1], (diff_process.posterior_variance[2:] / diff_process.beta[1:-1]))\n",
    "plt.show()\n",
    "\n",
    "\n",
    "# plt.plot(t[1:], fwd_model.posterior_variance[1:])"
   ]
  },
  {
   "cell_type": "markdown",
   "metadata": {},
   "source": [
    "### Wrap Forward and Reverse Process into Single Model"
   ]
  },
  {
   "cell_type": "code",
   "execution_count": 13,
   "metadata": {},
   "outputs": [],
   "source": [
    "class DiffusionModel(nn.Module):\n",
    "    def __init__(self, diffusion, score, **kwargs):\n",
    "        super().__init__()\n",
    "        \n",
    "        self.diffusion = DiffusionProcess(**{**kwargs, **diffusion})\n",
    "        self.score = ScoreNetwork(**{**kwargs, **score})\n",
    "        \n",
    "        self.params = [p for p in self.parameters() if p.requires_grad]\n",
    "    \n",
    "    def forward(self, x0):\n",
    "        \"\"\"\n",
    "        :param x0: (batch, features)\n",
    "        \"\"\"\n",
    "        eps = torch.randn_like(x0)\n",
    "        t = self.diffusion.sample_t(eps.shape[0], device=eps.device)\n",
    "        x_t = self.diffusion.sample_q(x0, eps, t)\n",
    "        eps_hat = self.score(x_t, t)\n",
    "        \n",
    "        return F.mse_loss(eps_hat, eps, reduction='mean')\n",
    "        \n",
    "    def generate(self, shape, device=None):\n",
    "        \"\"\"\n",
    "        Generate a batch of samples. Returns intermediate values as well.\n",
    "        :param shape: a tuple indicating the shape of the data\n",
    "        :param device: which device to sample on\n",
    "        \"\"\"\n",
    "        batch, *_ = shape\n",
    "        x_T = torch.randn(shape, device=device)\n",
    "        \n",
    "        x = x_T\n",
    "        \n",
    "        \n",
    "        out = [x_T.cpu()]\n",
    "        for t in range(self.diffusion.nb_timesteps-1, -1, -1):\n",
    "            t_ = torch.full((batch,), t, dtype=torch.long, device=device)\n",
    "            \n",
    "            eps_hat = self.score(x, t_)\n",
    "            x = self.diffusion.sample_p(x, eps_hat, t_, greedy=t==0)\n",
    "            \n",
    "            if (t+1) % 20 == 0:\n",
    "                out.append(x.cpu())\n",
    "        \n",
    "        return x, out"
   ]
  },
  {
   "cell_type": "markdown",
   "metadata": {},
   "source": [
    "### Worker"
   ]
  },
  {
   "cell_type": "code",
   "execution_count": 14,
   "metadata": {},
   "outputs": [],
   "source": [
    "class Worker(AbstractWorker):\n",
    "    def __init__(self, exp_name, model, run_dir, wandb, optim_class, optim_settings, *args, **kwargs):\n",
    "        super(Worker, self).__init__(exp_name, model, run_dir, wandb, *args, **kwargs)\n",
    "\n",
    "        self.model = model\n",
    "        \n",
    "        # setup the optimiser\n",
    "        self.params = [p for p in model.parameters() if p.requires_grad]\n",
    "        optim_class = getattr(torch.optim, optim_class)\n",
    "        self.optim = optim_class(self.params, **optim_settings)\n",
    "\n",
    "        # register the optimiser state, to include in the checkpoints\n",
    "        self.register_state(self.optim, \"optim\")\n",
    "\n",
    "        # put everything on GPU if available\n",
    "        if torch.cuda.is_available():\n",
    "            self.cuda()\n",
    "\n",
    "        # track the number of iterations\n",
    "        self.iterations = {\"train\": 0, \"test\": 0}\n",
    "\n",
    "        # load existing checkpoint\n",
    "        self.load(checkpoint_id=\"best\")\n",
    "        \n",
    "    # train / evaluation logic\n",
    "    def main(self, loader, train=True):\n",
    "        losses = []\n",
    "        for i, (x, _) in enumerate(tqdm(loader)):\n",
    "            if train:\n",
    "                self.optim.zero_grad()\n",
    "            \n",
    "            # put features on GPU\n",
    "            batch = x.shape[0]\n",
    "            x = x.float().cuda()\n",
    "            \n",
    "            loss = self.model(x)\n",
    "            if torch.isnan(loss).any():\n",
    "                raise Exception(\"NaN :(\")\n",
    "            \n",
    "            losses.append(loss.item())\n",
    "            \n",
    "            if train:\n",
    "                loss.backward()\n",
    "                self.optim.step()\n",
    "            \n",
    "            self._plot_loss({\n",
    "                'MSE': loss.item()\n",
    "            }, train=train)\n",
    "        \n",
    "#         if not train:\n",
    "#             self._plot_sample()\n",
    "        \n",
    "        return np.mean(losses),\n",
    "    \n",
    "    def train(self, loader):\n",
    "        self.model.train()\n",
    "        return self.main(loader, train=True)\n",
    "        \n",
    "    @torch.no_grad()\n",
    "    def evaluate(self, loader):\n",
    "        self.model.eval()\n",
    "        return self.main(loader, train=False)\n",
    "    \n",
    "    @torch.no_grad()\n",
    "    def _plot_sample(self):\n",
    "        x_gen, _ = self.model.generate((1, 1, 28, 28), device='cuda')\n",
    "        x_gen = MNIST.denormalize(x_gen).clamp(0, 1)\n",
    "        x_np = x_gen.view(28, 28).cpu().numpy()\n",
    "        self.plot_heatmap(x_np, id='Generated Sample')"
   ]
  },
  {
   "cell_type": "markdown",
   "metadata": {},
   "source": [
    "### Model Config"
   ]
  },
  {
   "cell_type": "code",
   "execution_count": 15,
   "metadata": {},
   "outputs": [],
   "source": [
    "MODEL_DIR = \"/home/angusturner/models/\"\n",
    "NAME = \"mnist_unet\""
   ]
  },
  {
   "cell_type": "code",
   "execution_count": 16,
   "metadata": {},
   "outputs": [],
   "source": [
    "MODEL_OPTS = {\n",
    "    'score': {},\n",
    "    'diffusion': {\n",
    "        'start': 1e-4,\n",
    "        'end': 0.05\n",
    "    },\n",
    "    'nb_timesteps': 200\n",
    "}\n",
    "\n",
    "WORKER_OPTS = {\n",
    "    'optim_class': 'Adam',\n",
    "    'optim_settings': {\n",
    "        'lr': 1e-3\n",
    "    }\n",
    "}"
   ]
  },
  {
   "cell_type": "markdown",
   "metadata": {},
   "source": [
    "### Experiment Setup"
   ]
  },
  {
   "cell_type": "code",
   "execution_count": 17,
   "metadata": {},
   "outputs": [
    {
     "name": "stdout",
     "output_type": "stream",
     "text": [
      "Overwriting existing configuration at /home/angusturner/models//mnist_unet/config.yaml\n",
      "dataset:\n",
      "  both:\n",
      "    data_dir: /home/angusturner/datasets/\n",
      "loader:\n",
      "  both:\n",
      "    batch_size: 32\n",
      "    shuffle: true\n",
      "  test:\n",
      "    drop_last: false\n",
      "  train:\n",
      "    drop_last: true\n",
      "model:\n",
      "  diffusion:\n",
      "    end: 0.05\n",
      "    start: 0.0001\n",
      "  nb_timesteps: 200\n",
      "  score: {}\n",
      "run_id: 33szveje\n",
      "wandb:\n",
      "  project: denoising\n",
      "worker:\n",
      "  optim_class: Adam\n",
      "  optim_settings:\n",
      "    lr: 0.001\n",
      "\n"
     ]
    }
   ],
   "source": [
    "_cfg = {\n",
    "    'loader': LOADER_OPTS,\n",
    "    'dataset': DATA_OPTS,\n",
    "    'model': MODEL_OPTS,\n",
    "    'worker': WORKER_OPTS,\n",
    "    'wandb': {\n",
    "        'project': 'denoising'\n",
    "    }\n",
    "}\n",
    "\n",
    "cfg = setup_config(\n",
    "    name=NAME, \n",
    "    cfg=_cfg,\n",
    "    exp_dir=MODEL_DIR,\n",
    "    overwrite=True\n",
    ")"
   ]
  },
  {
   "cell_type": "code",
   "execution_count": 18,
   "metadata": {},
   "outputs": [
    {
     "name": "stderr",
     "output_type": "stream",
     "text": [
      "\u001b[34m\u001b[1mwandb\u001b[0m: Currently logged in as: \u001b[33mangusturner\u001b[0m (use `wandb login --relogin` to force relogin)\n",
      "\u001b[34m\u001b[1mwandb\u001b[0m: wandb version 0.10.33 is available!  To upgrade, please run:\n",
      "\u001b[34m\u001b[1mwandb\u001b[0m:  $ pip install wandb --upgrade\n"
     ]
    },
    {
     "data": {
      "text/html": [
       "\n",
       "                Tracking run with wandb version 0.10.21<br/>\n",
       "                Resuming run <strong style=\"color:#cdcd00\">mnist_unet</strong> to <a href=\"https://wandb.ai\" target=\"_blank\">Weights & Biases</a> <a href=\"https://docs.wandb.com/integrations/jupyter.html\" target=\"_blank\">(Documentation)</a>.<br/>\n",
       "                Project page: <a href=\"https://wandb.ai/angusturner/diffusion\" target=\"_blank\">https://wandb.ai/angusturner/diffusion</a><br/>\n",
       "                Run page: <a href=\"https://wandb.ai/angusturner/diffusion/runs/33szveje\" target=\"_blank\">https://wandb.ai/angusturner/diffusion/runs/33szveje</a><br/>\n",
       "                Run data is saved locally in <code>/home/angusturner/diffuse/notebooks/wandb/run-20210701_194630-33szveje</code><br/><br/>\n",
       "            "
      ],
      "text/plain": [
       "<IPython.core.display.HTML object>"
      ]
     },
     "metadata": {},
     "output_type": "display_data"
    },
    {
     "name": "stdout",
     "output_type": "stream",
     "text": [
      "Checkpoint not found /home/angusturner/models//checkpoint_best.pt\n"
     ]
    }
   ],
   "source": [
    "# initialize model\n",
    "model = DiffusionModel(**MODEL_OPTS)\n",
    "\n",
    "# wandb setup\n",
    "run = wandb.init(name=NAME, config=cfg, id=cfg[\"run_id\"], resume=\"allow\", project='diffusion')\n",
    "run.watch(model)\n",
    "\n",
    "# initialize worker\n",
    "worker = Worker(NAME, model, run_dir=MODEL_DIR, wandb=run, **WORKER_OPTS)"
   ]
  },
  {
   "cell_type": "markdown",
   "metadata": {},
   "source": [
    "### Train"
   ]
  },
  {
   "cell_type": "code",
   "execution_count": 19,
   "metadata": {},
   "outputs": [],
   "source": [
    "nb_epoch = 10\n",
    "lowest_loss = float('inf')"
   ]
  },
  {
   "cell_type": "code",
   "execution_count": null,
   "metadata": {},
   "outputs": [
    {
     "name": "stderr",
     "output_type": "stream",
     "text": [
      " 36%|███▌      | 671/1875 [00:12<00:22, 54.26it/s]"
     ]
    }
   ],
   "source": [
    "for e in range(nb_epoch):\n",
    "    worker.train(train_loader)\n",
    "    loss, = worker.evaluate(test_loader)\n",
    "    \n",
    "    if loss < lowest_loss:\n",
    "        print(f\"New lowest loss {loss}\")\n",
    "        lowest_loss = loss\n",
    "        worker.save(checkpoint_id='best')"
   ]
  },
  {
   "cell_type": "code",
   "execution_count": null,
   "metadata": {},
   "outputs": [],
   "source": [
    "with torch.no_grad():\n",
    "    worker.model.eval()\n",
    "    x_gen, _ = worker.model.generate((25, 1, 28, 28), device='cuda')\n",
    "    x_gen = MNIST.denormalize(x_gen.cpu()).clamp(0, 1)\n",
    "    fig = plt.figure(figsize=(20, 20))\n",
    "    \n",
    "    for i in range(25):\n",
    "        plt.subplot(5, 5, i+1)\n",
    "        plt.imshow(x_gen[i].view(28, 28).numpy())"
   ]
  },
  {
   "cell_type": "code",
   "execution_count": null,
   "metadata": {},
   "outputs": [],
   "source": [
    "with torch.no_grad():\n",
    "    worker.model.eval()\n",
    "    x_gen, intermediates = worker.model.generate((1, 1, 28, 28), device='cuda')\n",
    "    intermediates.append(x_gen.cpu())\n",
    "        \n",
    "    fig = plt.figure(figsize=(12, 12))\n",
    "    \n",
    "    for i, x_gen in enumerate(intermediates):\n",
    "        x_gen = MNIST.denormalize(x_gen.cpu()).clamp(0, 1)\n",
    "        plt.subplot(4, 3, i+1)\n",
    "        plt.imshow(x_gen.view(28, 28).numpy())"
   ]
  }
 ],
 "metadata": {
  "kernelspec": {
   "display_name": "Python 3",
   "language": "python",
   "name": "python3"
  },
  "language_info": {
   "codemirror_mode": {
    "name": "ipython",
    "version": 3
   },
   "file_extension": ".py",
   "mimetype": "text/x-python",
   "name": "python",
   "nbconvert_exporter": "python",
   "pygments_lexer": "ipython3",
   "version": "3.8.5"
  }
 },
 "nbformat": 4,
 "nbformat_minor": 4
}
