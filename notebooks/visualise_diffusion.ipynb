{
 "cells": [
  {
   "cell_type": "code",
   "execution_count": 1,
   "id": "c753f8cd-32b7-478f-a869-70bb3452a535",
   "metadata": {},
   "outputs": [],
   "source": [
    "import torch\n",
    "import torch.nn as nn\n",
    "import torch.nn.functional as F\n",
    "import torch.utils.data\n",
    "\n",
    "import matplotlib.pyplot as plt\n",
    "%matplotlib inline\n",
    "import seaborn as sns\n",
    "\n",
    "import numpy as np\n",
    "import os\n",
    "from functools import partial\n",
    "\n",
    "from tqdm import tqdm as tqdm\n",
    "\n",
    "# wandb for plotting\n",
    "import wandb\n",
    "\n",
    "# PopGen for data loader and worker utils.\n",
    "from popgen.setup import setup_loaders, setup_config\n",
    "from popgen.workers.abstract_worker import AbstractWorker\n",
    "\n",
    "from sklearn.datasets import make_s_curve, make_swiss_roll"
   ]
  },
  {
   "cell_type": "code",
   "execution_count": 2,
   "id": "4d66f118-e891-4a5d-bcfa-f542803cc605",
   "metadata": {},
   "outputs": [
    {
     "name": "stdout",
     "output_type": "stream",
     "text": [
      "(5000, 2)\n"
     ]
    }
   ],
   "source": [
    "X, color = make_swiss_roll(n_samples=5000, noise=0.3)\n",
    "X = X / 4\n",
    "X = np.stack((X[:, 0], X[:, 2]), axis=1)\n",
    "x, y = X[:, 0], X[:, 1]\n",
    "print(X.shape)"
   ]
  },
  {
   "cell_type": "code",
   "execution_count": 3,
   "id": "9b67472a-ca64-4093-b5c1-9412fae5ca9b",
   "metadata": {},
   "outputs": [
    {
     "name": "stderr",
     "output_type": "stream",
     "text": [
      "/home/angusturner/miniconda3/envs/py38/lib/python3.8/site-packages/seaborn/_decorators.py:36: FutureWarning: Pass the following variable as a keyword arg: y. From version 0.12, the only valid positional argument will be `data`, and passing other arguments without an explicit keyword will result in an error or misinterpretation.\n",
      "  warnings.warn(\n"
     ]
    },
    {
     "data": {
      "text/plain": [
       "<AxesSubplot:>"
      ]
     },
     "execution_count": 3,
     "metadata": {},
     "output_type": "execute_result"
    },
    {
     "data": {
      "image/png": "[encoded data removed]",
      "text/plain": [
       "<Figure size 432x288 with 1 Axes>"
      ]
     },
     "metadata": {
      "needs_background": "light"
     },
     "output_type": "display_data"
    }
   ],
   "source": [
    "sns.kdeplot(x, y, fill=True, bw_adjust=0.2)"
   ]
  },
  {
   "cell_type": "code",
   "execution_count": 4,
   "id": "8053e264-78d2-44bf-9b43-6eec3354cb3e",
   "metadata": {},
   "outputs": [
    {
     "data": {
      "text/plain": [
       "<matplotlib.collections.PathCollection at 0x7fc680cd6bb0>"
      ]
     },
     "execution_count": 4,
     "metadata": {},
     "output_type": "execute_result"
    },
    {
     "data": {
      "image/png": "[encoded data removed]",
      "text/plain": [
       "<Figure size 288x288 with 1 Axes>"
      ]
     },
     "metadata": {
      "needs_background": "light"
     },
     "output_type": "display_data"
    }
   ],
   "source": [
    "plt.figure(figsize=(4, 4))\n",
    "plt.scatter(x, y)"
   ]
  },
  {
   "cell_type": "code",
   "execution_count": 5,
   "id": "4aeb9b09-8e59-45d0-8d99-5306af049b73",
   "metadata": {},
   "outputs": [],
   "source": [
    "class DiffusionProcess(nn.Module):\n",
    "    def __init__(self, nb_timesteps=50, start=1e-4, end=0.05):\n",
    "        super().__init__()\n",
    "        \n",
    "        self.nb_timesteps = nb_timesteps\n",
    "        \n",
    "        # beta = likelihood variance q(x_t | x_t-1)\n",
    "        beta = torch.linspace(start, end, nb_timesteps)\n",
    "        alpha = 1. - beta\n",
    "        alpha_hat = alpha.cumprod(dim=0)\n",
    "        \n",
    "        # q(x_t|x_0) = N(x_t ; sqrt(alpha_hat) * x_0, forward_variance)\n",
    "        prior_variance = (1. - alpha_hat)\n",
    "        \n",
    "        # forward process posterior variance (beta_hat) corresponding to (q(x_t-1 | x_t, x_0)\n",
    "        alpha_hat_t_1 = F.pad(alpha_hat, (1, 0))[:-1]\n",
    "        posterior_variance = (1 - alpha_hat_t_1) * beta / (1 - alpha_hat)\n",
    "        posterior_variance[0] = beta[0]\n",
    "        \n",
    "        for (name, tensor) in [\n",
    "            (\"beta\", beta),\n",
    "            (\"alpha\", alpha),\n",
    "            (\"alpha_hat\", alpha_hat),\n",
    "            (\"prior_variance\", prior_variance),\n",
    "            (\"posterior_variance\", posterior_variance)\n",
    "        ]:\n",
    "            self.register_buffer(name, tensor)\n",
    "    \n",
    "    def sample_t(self, batch_size=1, device=None):\n",
    "        \"\"\"\n",
    "        Sample a random timestep for each batch item.\n",
    "        \"\"\"\n",
    "        return torch.randint(0, self.nb_timesteps, size=(batch_size,), device=device)\n",
    "        \n",
    "    def sample_q(self, x0, eps, t):\n",
    "        \"\"\"\n",
    "        The \"forward process\". Given the data point x_0, we can sample\n",
    "        any latent x_t from q(x_t|x_0)\n",
    "        :param x0: the initial data point (batch, *)\n",
    "        :param eps: noise samples from N(0, I) (batch, *)\n",
    "        :param t: the timesteps in [0, nb_timesteps] (batch)\n",
    "        \"\"\"\n",
    "        assert (t >= 0).all() and (t < self.nb_timesteps).all(), \"Invalid timestep\"\n",
    "        \n",
    "        alpha_hat_t = self.alpha_hat[t, None] # (batch, 1, 1, 1)\n",
    "        return alpha_hat_t.sqrt() * x0 + (1. - alpha_hat_t).sqrt() * eps\n",
    "    \n",
    "    def sample_q_next(self, x_t, eps, t):\n",
    "        \"\"\"\n",
    "        :param x_t: previous step! (batch, *)\n",
    "        :param eps: noise samples from N(0, I) (batch, *)\n",
    "        :param t: the timesteps in [0, nb_timesteps] (batch)\n",
    "        \"\"\"\n",
    "        assert (t >= 0).all() and (t < self.nb_timesteps).all(), \"Invalid timestep\"\n",
    "        beta = self.beta[t, None]\n",
    "        mu = (1. - beta).sqrt() * x_t\n",
    "        return mu + (beta.sqrt() * eps)\n",
    "    \n",
    "    def sample_p(self, x_t, eps_hat, t, greedy=False):\n",
    "        \"\"\"\n",
    "        The \"reverse process\". Given a latent `x_t`, draw a sample from p(x_t-1|x_t)\n",
    "        using the noise prediction.\n",
    "        :param x_t: the previous sample (batch, *)\n",
    "        :param eps_hat: the noise, predicted by neural net (batch, *)\n",
    "        :param t: the timestep (batch)\n",
    "        \"\"\"\n",
    "        \n",
    "        alpha_t = self.alpha[t, None, None, None] # (batch, 1, 1, 1)\n",
    "        beta_t = self.beta[t, None, None, None]\n",
    "        alpha_hat_t = self.alpha_hat[t, None, None, None]\n",
    "        \n",
    "        # calculate the mean\n",
    "        mu = x_t - ((beta_t * eps_hat) / (1. - alpha_hat_t).sqrt())\n",
    "        mu = (1. / alpha_t.sqrt()) * mu\n",
    "        \n",
    "        if greedy:\n",
    "            return mu\n",
    "        \n",
    "        # sample\n",
    "        std = self.posterior_variance[t, None, None, None].sqrt()\n",
    "        x_next = mu + std * torch.randn_like(mu)\n",
    "        \n",
    "        return x_next"
   ]
  },
  {
   "cell_type": "code",
   "execution_count": 6,
   "id": "e3f20f87-1553-4c25-a0e9-d037e064b6c4",
   "metadata": {},
   "outputs": [
    {
     "name": "stdout",
     "output_type": "stream",
     "text": [
      "tensor(0.9939)\n",
      "tensor(0.0001)\n",
      "tensor(1.0000e-04)\n",
      "tensor(1.0000e-04)\n"
     ]
    }
   ],
   "source": [
    "nb_steps = 200\n",
    "start = 1e-4\n",
    "end = 0.05\n",
    "diff_process = DiffusionProcess(nb_steps, start, end)\n",
    "print(diff_process.prior_variance[-1])\n",
    "print(diff_process.prior_variance[0])\n",
    "\n",
    "print(diff_process.posterior_variance[0])\n",
    "print(diff_process.beta[0])"
   ]
  },
  {
   "cell_type": "code",
   "execution_count": 7,
   "id": "95405ac8-8c2e-462d-9b1c-7aea0d405453",
   "metadata": {},
   "outputs": [
    {
     "data": {
      "image/png": "[encoded data removed]",
      "text/plain": [
       "<Figure size 576x576 with 1 Axes>"
      ]
     },
     "metadata": {
      "needs_background": "light"
     },
     "output_type": "display_data"
    }
   ],
   "source": [
    "# visualise the various terms\n",
    "t = torch.arange(1, nb_steps+1)\n",
    "plt.figure(figsize=(8, 8))\n",
    "plt.title(\"Variance of q(x_t | x_0) for t=0 -> t=T\")\n",
    "plt.xlabel(\"Timestep `t`\")\n",
    "plt.ylabel(\"1 - alpha_hat_t\")\n",
    "plt.plot(t[:], diff_process.prior_variance[:])\n",
    "plt.show()"
   ]
  },
  {
   "cell_type": "code",
   "execution_count": 8,
   "id": "ef83a83b-1b8c-4df9-b2a7-8834dbd1829e",
   "metadata": {},
   "outputs": [
    {
     "name": "stderr",
     "output_type": "stream",
     "text": [
      "100%|██████████| 199/199 [00:00<00:00, 4911.25it/s]\n"
     ]
    }
   ],
   "source": [
    "with torch.no_grad():\n",
    "    x0 = torch.tensor(X).float()\n",
    "    x_t = x0\n",
    "    out = [x0]\n",
    "    batch = x0.shape[0]\n",
    "    for t in tqdm(range(1, nb_steps)):\n",
    "        t_ = torch.full((batch,), t, dtype=torch.long, device=x0.device)\n",
    "        eps = torch.randn_like(x0)\n",
    "#         x_t = diff_process.sample_q(x0, eps, t_)\n",
    "        x_t = diff_process.sample_q_next(x_t, eps, t_)\n",
    "        out.append(x_t.cpu())"
   ]
  },
  {
   "cell_type": "code",
   "execution_count": 9,
   "id": "2b228690-3308-4f01-82f5-7daac59e09d7",
   "metadata": {},
   "outputs": [
    {
     "name": "stderr",
     "output_type": "stream",
     "text": [
      "/home/angusturner/miniconda3/envs/py38/lib/python3.8/site-packages/seaborn/_decorators.py:36: FutureWarning: Pass the following variable as a keyword arg: y. From version 0.12, the only valid positional argument will be `data`, and passing other arguments without an explicit keyword will result in an error or misinterpretation.\n",
      "  warnings.warn(\n"
     ]
    },
    {
     "data": {
      "image/png": "[encoded data removed]",
      "text/plain": [
       "<Figure size 432x288 with 1 Axes>"
      ]
     },
     "metadata": {
      "needs_background": "light"
     },
     "output_type": "display_data"
    }
   ],
   "source": [
    "# plot the final step\n",
    "x, y = out[-1][:, 0], out[-1][:, 1]\n",
    "fig, ax = plt.subplots()\n",
    "# ax.scatter(x, y)\n",
    "sns.kdeplot(x, y, fill=True, ax=ax, bw_adjust=0.2)\n",
    "ax.set_xlim(-3.5, 3.5)\n",
    "ax.set_ylim(-3.5, 3.5)\n",
    "plt.show()\n",
    "\n",
    "# ax.set_xlim(-3, 3)\n",
    "# plt.scatter(x, y)\n",
    "# # plt.contour(out[-1])\n",
    "# sns.kdeplot(x, y, fill=True)"
   ]
  },
  {
   "cell_type": "code",
   "execution_count": 10,
   "id": "0bdd9800-f07a-4329-ad4d-c9415dfec2b8",
   "metadata": {},
   "outputs": [],
   "source": [
    "import os\n",
    "\n",
    "def plot_density(x, y, i=0, out_dir='pngs'):\n",
    "    fig, ax = plt.subplots()\n",
    "#     ax.scatter(x, y)\n",
    "    sns.kdeplot(x=x, y=y, fill=True, ax=ax, bw_adjust=0.2)\n",
    "    ax.set_xlim(-3.5, 3.5)\n",
    "    ax.set_ylim(-3.5, 3.5)\n",
    "    i_str = \"{}\".format(i).zfill(3)\n",
    "    out_path = os.path.join(out_dir, f\"fig_{i_str}.png\")\n",
    "    plt.savefig(out_path, dpi=200, bbox_inches='tight')\n",
    "    plt.close(fig)"
   ]
  },
  {
   "cell_type": "code",
   "execution_count": 11,
   "id": "444fa390-050c-4705-bec0-eb34f09e57b2",
   "metadata": {},
   "outputs": [
    {
     "name": "stderr",
     "output_type": "stream",
     "text": [
      "100%|██████████| 200/200 [06:58<00:00,  2.09s/it]\n"
     ]
    }
   ],
   "source": [
    "for i in tqdm(range(0, nb_steps)):\n",
    "    x, y = out[i][:, 0], out[i][:, 1]\n",
    "    plot_density(x, y, i)"
   ]
  },
  {
   "cell_type": "code",
   "execution_count": 29,
   "id": "65414b45-5e93-421c-aa78-87df22dc3a83",
   "metadata": {},
   "outputs": [
    {
     "data": {
      "text/plain": [
       "tensor([0])"
      ]
     },
     "execution_count": 29,
     "metadata": {},
     "output_type": "execute_result"
    }
   ],
   "source": [
    "torch.randint(0, 1, size=(1,))"
   ]
  },
  {
   "cell_type": "code",
   "execution_count": null,
   "id": "f5d16e75-558c-46e5-abdd-82164dda7eb3",
   "metadata": {},
   "outputs": [],
   "source": []
  },
  {
   "cell_type": "code",
   "execution_count": null,
   "id": "13beb3ec-4d24-4b3e-ad2b-8c2bbcd8a920",
   "metadata": {},
   "outputs": [],
   "source": []
  },
  {
   "cell_type": "code",
   "execution_count": null,
   "id": "c48e6eeb-df69-4ec3-8451-b8fe132f7826",
   "metadata": {},
   "outputs": [],
   "source": []
  },
  {
   "cell_type": "code",
   "execution_count": null,
   "id": "276a9cc3-17bb-4b69-b931-54a2518c4e93",
   "metadata": {},
   "outputs": [],
   "source": []
  }
 ],
 "metadata": {
  "kernelspec": {
   "display_name": "Python 3",
   "language": "python",
   "name": "python3"
  },
  "language_info": {
   "codemirror_mode": {
    "name": "ipython",
    "version": 3
   },
   "file_extension": ".py",
   "mimetype": "text/x-python",
   "name": "python",
   "nbconvert_exporter": "python",
   "pygments_lexer": "ipython3",
   "version": "3.8.5"
  }
 },
 "nbformat": 4,
 "nbformat_minor": 5
}
